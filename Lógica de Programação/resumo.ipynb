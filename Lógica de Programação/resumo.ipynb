{
 "cells": [
  {
   "cell_type": "markdown",
   "metadata": {},
   "source": []
  },
  {
   "cell_type": "markdown",
   "metadata": {},
   "source": [
    "# Variáveis\n",
    "\n",
    "## O que seria uma variável?\n",
    "É um objeto que possui a característica de reter um valor, que pode, e muitas vezes será, trocar a qualquer momento no código.\n",
    "\n",
    "Para um dado poder ser utilizado, é necessário que este esteja associado a uma variável.\n",
    "\n",
    "- Não é possível utilizar palavras reservadas como nomes de variáveis.\n",
    "\n",
    "Nos JavaSript pode-se utilizar a palavra **var** ou **let** para criar uma variável.\n",
    "\n",
    "Caso ocorra de um programa atribuir x = 10. Isso fica salvo na memória. Caso o progama feche, há chances desta variável x ainda possur valor 10, mesmo não tendo ligação a nenhum programa. Caso um novo programa utilize o mesmo nome de variável (x) sem atribuir um valor antes, **PODE** acontecer de atribuir o valor lixo que está na memória principal.\n",
    "\n",
    "JavaScript trabalha com contexto, independente do valor de x fora do contexto. Quando ela possui outro valor dentro do contexto, assim será. Apesar de ter outro valor fora.\n",
    "\n",
    "Uma **constante** é um objeto que sempre terá o mesmo valor, e tentar alterar posteriormente resultará em um erro.\n",
    "\n",
    "No JavaScript as variáveis não armazem informações. Elas \"apontam\" para um espaço na memória onde esse valor está armazenado.\n",
    "\n",
    "--- \n",
    "\n",
    "# Exercício: descreva como você obeteria a média de 3 números.\n",
    "\n",
    "1. Definir qual fórmula utilizar: por se tratar de dados não agrupados (que não possuem tabela de frequêencia), basta utilizar uma **média aritmética simples**. Sua fórmula é x̄ = (x1+x2+...+xn)/n;\n",
    "2. Definir quais são os três números que serão calculados;\n",
    "3. Utilizar os três números (xi) na fórmula, que será x̄ = (x1+x2+x3)/3;\n",
    "4. Ao final do cálculo, o número resultante será a média aritmética simples dos três números.\n",
    "\n",
    "---\n",
    "\n",
    "# JavaScript\n",
    "\n",
    "- JavaScript não é Java (esta é uma linguagem *server-side*, que roda no lado do servidor);\n",
    "- É uma linguagem *client-side*, isso significa que roda localmente na máquina do usuário;\n",
    "- Utilizada para manipular HTML e o CSS para manipular os comportamentos da página web;\n",
    "- Criada em '95 por Brendan Eich na Netscape;\n",
    "- Seu nome original era ECMAScript;\n",
    "- Linguagem dinâmica. Isso quer dizer que não é necessário determinar o tipo da variável.\n",
    "\n",
    "## Tipos de dados JavaScript\n",
    "\n",
    "**O dado é o menor tipo de \"informação\".**\n",
    "Existeam apenas dois tipos\n",
    "- Não numérico: não é composto apenas por número. São palavras, strings.\n",
    "- Numéricos: não possuem letras, são apenas números.\n",
    "\n",
    "--- \n",
    "\n"
   ]
  },
  {
   "cell_type": "markdown",
   "metadata": {},
   "source": [
    "### Comandos \n",
    "node -v: verifica versão do node.js   \n",
    "npm -v: verifica versão do node packed manager   \n",
    "npm install prompt-sync: instala o prompt-sync"
   ]
  }
 ],
 "metadata": {
  "kernelspec": {
   "display_name": "Python 3",
   "language": "python",
   "name": "python3"
  },
  "language_info": {
   "codemirror_mode": {
    "name": "ipython",
    "version": 3
   },
   "file_extension": ".py",
   "mimetype": "text/x-python",
   "name": "python",
   "nbconvert_exporter": "python",
   "pygments_lexer": "ipython3",
   "version": "3.13.2"
  }
 },
 "nbformat": 4,
 "nbformat_minor": 2
}
