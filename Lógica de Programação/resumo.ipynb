{
 "cells": [
  {
   "cell_type": "markdown",
   "metadata": {},
   "source": [
    "# Variáveis\n",
    "\n",
    "## O que seria uma variável?\n",
    "É um objeto que possui a característica de reter um valor, que pode, e muitas vezes será, trocar a qualquer momento no código.\n",
    "\n",
    "Para um dado poder ser utilizado, é necessário que este esteja associado a uma variável.\n",
    "\n",
    "- Não é possível utilizar palavras reservadas como nomes de variáveis.\n",
    "\n",
    "Nos JavaSript pode-se utilizar a palavra **var** ou **let** para criar uma variável.\n",
    "\n",
    "Caso ocorra de um programa atribuir x = 10. Isso fica salvo na memória. Caso o progama feche, há chances desta variável x ainda possur valor 10, mesmo não tendo ligação a nenhum programa. Caso um novo programa utilize o mesmo nome de variável (x) sem atribuir um valor antes, **PODE** acontecer de atribuir o valor lixo que está na memória principal.\n",
    "\n",
    "JavaScript trabalha com contexto, independente do valor de x fora do contexto. Quando ela possui outro valor dentro do contexto, assim será. Apesar de ter outro valor fora.\n",
    "\n",
    "Uma **constante** é um objeto que sempre terá o mesmo valor, e tentar alterar posteriormente resultará em um erro.\n",
    "\n",
    "No JavaScript as variáveis não armazem informações. Elas \"apontam\" para um espaço na memória onde esse valor está armazenado.\n",
    "\n",
    "--- \n",
    "\n",
    "# Exercício: descreva como você obeteria a média de 3 números.\n",
    "\n",
    "1. Definir qual fórmula utilizar: por se tratar de dados não agrupados (que não possuem tabela de frequêencia), basta utilizar uma **média aritmética simples**. Sua fórmula é x̄ = (x1+x2+...+xn)/n;\n",
    "2. Definir quais são os três números que serão calculados;\n",
    "3. Utilizar os três números (xi) na fórmula, que será x̄ = (x1+x2+x3)/3;\n",
    "4. Ao final do cálculo, o número resultante será a média aritmética simples dos três números.\n",
    "\n",
    "---\n",
    "\n",
    "# JavaScript\n",
    "\n",
    "- JavaScript não é Java (esta é uma linguagem *server-side*, que roda no lado do servidor);\n",
    "- É uma linguagem *client-side*, isso significa que roda localmente na máquina do usuário;\n",
    "- Utilizada para manipular HTML e o CSS para manipular os comportamentos da página web;\n",
    "- Criada em '95 por Brendan Eich na Netscape;\n",
    "- Seu nome original era ECMAScript;\n",
    "- Linguagem dinâmica. Isso quer dizer que não é necessário determinar o tipo da variável;   \n",
    "- **É fracamente tipada;**   \n",
    "- Qualquer valor em JavaScript que não seja uma string, um número, true, false, null ou undefined, é um objeto.   \n",
    "- Todas as funcionalidades do JavaScript são objetos globais.   \n",
    "\n",
    "## Tipos de dados JavaScript\n",
    "\n",
    "**O dado é o menor tipo de \"informação\".**\n",
    "Existeam apenas dois tipos\n",
    "- Não numérico: não é composto apenas por número. São palavras, strings.\n",
    "- Numéricos: não possuem letras, são apenas números.\n",
    "\n",
    "---   "
   ]
  },
  {
   "cell_type": "markdown",
   "metadata": {},
   "source": [
    "### Comandos \n",
    "node -v: verifica versão do node.js   \n",
    "npm -v: verifica versão do node packed manager   \n",
    "npm install prompt-sync: instala o prompt-sync\n",
    "\n",
    "---   "
   ]
  },
  {
   "cell_type": "markdown",
   "metadata": {},
   "source": [
    "### Função\n",
    "- Uma função é um objeto que tem código executável associado. Uma função pode ser chamada para executar esse código executável e retornar um valor calculado;   \n",
    "\n",
    "- As funções que são escritas para serem usadas (com o operador new) para inicializar um objeto criado recentemente são conhecidas como construtoras. Cada construtora define uma classe de objetos – o conjunto de objetos inicializados por essa construtora. As classes podem ser consideradas como subtipos do tipo de objeto.   \n",
    "---"
   ]
  },
  {
   "cell_type": "markdown",
   "metadata": {},
   "source": [
    "**Além das classes Array e Function, JavaScript básica define outras três classes úteis.**   \n",
    "- A classe Date define objetos que representam datas;   \n",
    "- A classe RegExp define objetos que representam expressões regulares (uma poderosa ferramenta de comparação de padrões);   \n",
    "- A classe Error define objetos que representam erros de sintaxe e de execução que podem ocorrer em um programa JavaScript;   \n",
    "---"
   ]
  },
  {
   "cell_type": "markdown",
   "metadata": {},
   "source": [
    "- O interpretador JavaScript realiza a coleta de lixo automática para gerenciamento de memória. Isso significa que um programa pode criar objetos conforme for necessário e o programador nunca precisa se preocupar com a destruição ou desalocação desses objetos;   \n",
    "- JavaScript é orientada a objetos;   \n",
    "---"
   ]
  },
  {
   "cell_type": "markdown",
   "metadata": {},
   "source": [
    "### Números\n",
    "- JavaScript não faz distinção de número inteiro e valores de ponto flutuante. Quando um número aparece diretamente em um programa JavaScript, ele é chamado de literal numérico;\n",
    "   \n",
    "- Os programas JavaScript trabalham com números usando os operadores aritméticos fornecidos pela linguagem... + para adição, – para subtração, * para multiplicação, / para divisão e % para módulo (resto da divisão);   \n",
    "   \n",
    "- JavaScript aceita operações matemáticas mais complexas por meio de um conjunto de funções e constantes definidas como propriedades do objeto Math.   \n",
    "   \n",
    "- Quando o resultado de uma operação numérica é maior do que o maior número representável (estouro), o resultado é um valor infinito especial, que JavaScript indica como **Infinity**.   \n",
    "   \n",
    "- Divisão por zero não é erro em JavaScript: ela simplesmente retorna infinito ou infinito negativo... há uma exceção: zero dividido por zero não tem um valor bem definido e o resultado dessa operação é o valor especial **not-a-number**, impresso como **NaN**. O NaN não é comparado como igual a qualquer outro valor, incluindo ele mesmo.   \n",
    "   \n",
    "- O método ***toFixed(dígitos)*** formata um número utilizando notação de ponto fixo.\n",
    "    - *dígitos* vai de 0 a 100 e representa quantas casas decimais serão mostradas.   \n",
    "   \n",
    "- O operador ***typeof operando*** retorna uma string indicando o tipo de um operando.   \n",
    "   \n",
    "- O operador + é utilizado tanto para a concatenação de strings quanto para a soma de literais numéricos. Porém dá prioridade a strings. Por isso '3' + 2 = 32.   \n",
    "\n",
    "- Já com - é utilizado somente para subtração de numéricos. Por isso que '3' - 2  = 1.   \n",
    "- console.log(\"Show!\" * 2) a saída é Not a Numer, ou NaN.   \n",
    "- **10.toString()** gera erro pois o computador entende 10. como um decimal incompleto, quebrando o código. Para resolver isso, é recomendado utilizar parênteses.  \n",
    "- Para converter string para número temos o **parseInt(*string*)** para inteiro e o **parseFloat(*string*)** para decimal.   \n",
    "- **String(n)** ou **n.toString()**serve para converter número para string.   \n",
    "---"
   ]
  },
  {
   "cell_type": "markdown",
   "metadata": {},
   "source": [
    "### Texto   \n",
    "- **.reaplace(arg1, arg2)** subtitui um caractere X por um caractere Y.   \n",
    "- Colocar o REAL: **soma.toLocaleString('pt-BR', {style: 'currency', currency: 'BRL'})**   \n",
    "- pode-se dividir uma string literal em várias linhas, finalizando cada uma delas, menos a última, com uma barra invertida (\\);   \n",
    "- \\o : caractere Null.   \n",
    "- \\b : Retrocesso.   \n",
    "- \\t : Tabulação horizontal.   \n",
    "- \\n : Nova linha.   \n",
    "- \\v : Tabulação vertical.\n",
    "- \\f : Avanço página.   \n",
    "- \\r : Retorno de carro.   \n",
    "- \\\\\" : Aspas duplas.   \n",
    "- \\\\' : Apóstrofo ou Aspas simples.   \n",
    "- \\\\\\ : Barra invertida.   \n",
    "\n",
    "- s[s.lenght-1] : irá fazer a busca do final até o início da string, sendo -1 o último.      \n",
    "- O método **charAt()** retorna o caractere especificado a partir de uma string (mesmo efeito do método acima).   \n",
    "- O método **concat()** combina o texto de duas ou mais strings e retorna uma nova string.   \n",
    "- **Placeholder - $**: window.alert(`A soma do número ${n1} + ${n2} é: ${soma}`)   \n",
    "- **str.length** conta quantos caracteres a string tem.   \n",
    "- **str.toUpperCase()** : retorna o valor da string com todas letras maiúsculas.   \n",
    "- **str.toLowerCase()** : retorna o valor da string que foi chamada convertido para minúsculo.   \n",
    "---"
   ]
  },
  {
   "cell_type": "markdown",
   "metadata": {},
   "source": [
    "### Booleano   \n",
    "- Um valor booleano representa verdadeiro ou falso, ligado ou desligado, sim ou não. Só existem dois valores possíveis desse tipo. As palavras reservadas true e false são avaliadas nesses dois valores;   \n",
    "- O operador **&&** executa a operação booleana E. Ele é avaliado como um valor **verdadeiro se, e somente se, seus dois operandos são verdadeiros**; caso contrário, é avaliado como um valor **falso**.   \n",
    "- O operador **||** é a operação booleana **OU**: ele é avaliado como um valor **verdadeiro se um ou outro (ou ambos) de seus operandos é verdadeiro** e é avaliado como um valor **falso se os dois operandos são falsos**.   \n",
    "- Por fim, o operador unário **!** executa a operação booleana **NÃO**: ele é avaliado como **true se seu operando é falso e é avaliado como false se seu operando é verdadeiro**.   \n",
    "- "
   ]
  },
  {
   "cell_type": "markdown",
   "metadata": {},
   "source": [
    "### Null e undefined\n",
    "- null é uma palavra-chave da linguagem avaliada com um valor especial, normalmente utilizado para indicar a ausência de um valor.   \n",
    "- undefined é mais profunda, significa que o sistema não encontrou um valor, como na inicializção de uma variável e nada ser declarado.\n",
    "- null é mais como um vazio no programa. Um campo que poderia receber um valor mas optou por não receber. O valor retornado será null.   \n",
    "\n",
    "---"
   ]
  },
  {
   "cell_type": "markdown",
   "metadata": {},
   "source": [
    "### Array   \n",
    "- Um array é um tipo especial de objeto, que representa um conjunto ordenado de valores numerados.   \n",
    "- Um array é um conjunto ordenado de valores. Cada valor é chamado de elemento e cada elemento tem uma posição numérica no array, conhecida como índice.   \n",
    "- Os arrays em JavaScript não são tipados: um elemento do array pode ser de qualquer tipo e diferentes elementos do mesmo array podem ser de tipos diferentes.   \n",
    "- Os arrays em JavaScript são dinâmicos: eles crescem ou diminuem conforme o necessário e não há necessidade de declarar um tamanho fixo para o array ao criá-lo ou realocá-lo quando o tamanho muda.   \n",
    "\n",
    "---"
   ]
  },
  {
   "cell_type": "markdown",
   "metadata": {},
   "source": [
    "### Objeto\n",
    "- Um objeto (isto é, um membro do tipo objeto) é um conjunto de propriedades, em que cada propriedade tem um nome e um valor.   \n",
    "- Um objeto normal em JavaScript é um conjunto não ordenado de valores nomeados.   \n",
    "- O objeto array só tem valor, é acessado pelo índice.   \n",
    "- O objeto objeto é acessado por uma chave.   \n",
    "- Objetos diferentes podem ter chaves e valores iguais."
   ]
  },
  {
   "cell_type": "markdown",
   "metadata": {},
   "source": [
    "Explicação sobre como o computador interpreta o que escrevemos;\n",
    "Breve introudução ao sistema binário (basicamente o que vimos bimestre passado em Arquitetura);\n",
    "    Ligado - 1, Desligado -0;\n",
    "    Bits e bytes;\n",
    "Operador && e ||;\n",
    "Operador ? (ternário, é um tipo de atalho para a expressão if);\n",
    "A virgula é utilizada para separar argumentos, como em var a=1, b=2, c=3. Serve para repetir um código, nesse caso o var;\n",
    "O que é um looping eterno (usando for);\n",
    "delete objname.chave (irá apagar a chave de um objeto);\n",
    "typeof indica o que um determinado elemento é;\n",
    "void é uma função que não retorna um valor;\n",
    "Posso criar um array usando new Array ou usando colchetes;\n",
    "Lista só se guarda dentro de array;\n",
    "As provas ou é interpretação de algoritmo ou desenvolvimento de um algoritmo;\n",
    "Explicação sobre condicional if e sobre o else;\n",
    "Aninhamento de if/else é quando é feita várias condicionais;\n"
   ]
  }
 ],
 "metadata": {
  "kernelspec": {
   "display_name": "Python 3",
   "language": "python",
   "name": "python3"
  },
  "language_info": {
   "codemirror_mode": {
    "name": "ipython",
    "version": 3
   },
   "file_extension": ".py",
   "mimetype": "text/x-python",
   "name": "python",
   "nbconvert_exporter": "python",
   "pygments_lexer": "ipython3",
   "version": "3.12.8"
  }
 },
 "nbformat": 4,
 "nbformat_minor": 2
}
