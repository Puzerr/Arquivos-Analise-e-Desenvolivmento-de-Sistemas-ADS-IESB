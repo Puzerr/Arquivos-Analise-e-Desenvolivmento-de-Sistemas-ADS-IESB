{
 "cells": [
  {
   "cell_type": "markdown",
   "metadata": {},
   "source": [
    "## Tipos de dados JavaScript\n",
    "\n",
    "### O dado é o menor tipo de \"informação\".\n",
    "Existeam apenas dois tipos\n",
    "- Não numérico: não é composto apenas por número. São palavras, strings.\n",
    "- Numéricos: não possuem letras, são apenas números."
   ]
  },
  {
   "cell_type": "markdown",
   "metadata": {},
   "source": [
    "## Variáveis\n",
    "\n",
    "### O que seria uma variável?\n",
    "É um objeto que possui a característica de reter um valor, que pode, e muitas vezes será, trocar a qualquer momento no código.\n",
    "\n",
    "Para um dado poder ser utilizado, é necessário que este esteja associado a uma variável.\n",
    "\n",
    "- Não é possível utilizar palavras reservadas como nomes de variáveis.\n",
    "\n",
    "Nos JavaSript pode-se utilizar a palavra **var** ou **let** para criar uma variável.\n",
    "\n",
    "Caso ocorra de um programa atribuir x = 10. Isso fica salvo na memória. Caso o progama feche, há chances desta variável x ainda possur valor 10, mesmo não tendo ligação a nenhum programa. Caso um novo programa utilize o mesmo nome de variável (x) sem atribuir um valor antes, **PODE** acontecer de atribuir o valor lixo que está na memória principal.\n",
    "\n",
    "JavaScript trabalha com contexto, independente do valor de x fora do contexto. Quando ela possui outro valor dentro do contexto, assim será. Apesar de ter outro valor fora.\n",
    "\n",
    "Uma **constante** é um objeto que sempre terá o mesmo valor, e tentar alterar posteriormente resultará em um erro."
   ]
  }
 ],
 "metadata": {
  "kernelspec": {
   "display_name": "Python 3",
   "language": "python",
   "name": "python3"
  },
  "language_info": {
   "codemirror_mode": {
    "name": "ipython",
    "version": 3
   },
   "file_extension": ".py",
   "mimetype": "text/x-python",
   "name": "python",
   "nbconvert_exporter": "python",
   "pygments_lexer": "ipython3",
   "version": "3.12.8"
  }
 },
 "nbformat": 4,
 "nbformat_minor": 2
}
