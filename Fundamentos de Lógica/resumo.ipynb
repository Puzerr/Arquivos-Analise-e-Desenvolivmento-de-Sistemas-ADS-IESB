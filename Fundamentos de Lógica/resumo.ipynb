{
 "cells": [
  {
   "cell_type": "markdown",
   "metadata": {},
   "source": [
    "Na área da computação, os algoritmos podem ser definidos como uma\n",
    "sequência de ações executadas em uma ordem preestabelecida, tendo como\n",
    "objetivo demonstrar o passo a passo para se chegar a uma determinada\n",
    "solução de uma problematização (EDELWEISS; LIVI, 2014).\n",
    "\n",
    "Algumas das principais ações que podem e/\n",
    "ou devem ser observadas na construção de um programa são a facilidade\n",
    "de depuração, a verificação de possíveis falhas, a facilidade de alterações e\n",
    "a reutilização de códigos.   \n",
    "\n",
    "---"
   ]
  },
  {
   "cell_type": "markdown",
   "metadata": {},
   "source": [
    "### Há algumas formas de representar os algoritmos:\n",
    "\n",
    "A narração descritiva utiliza da linguagem cotidiana para representar o pensamento lógico do algoritmo. Não é a mais utilziada pois pode haver ambiguidade.\n",
    "O fluxograma é uma forma gráfica de representação. Ela pode contar com simbolos, imagens, cores e padrões para que seja possível a interepretação correta da lógica.\n",
    "O pseudocódigo se assemelha muito com uma linguagem de programação, porém sem entrar com muitos detalhes. É mais facilmente entendido por, precisamente, se assemelhar ao código que será escrito posteriormente.   \n",
    "\n",
    "---"
   ]
  },
  {
   "cell_type": "markdown",
   "metadata": {},
   "source": [
    "As etapas para a construção de um algoritmo são bem dinâmicas, e podem ser definidas como a seguir:\n",
    "\n",
    "### Como solucionar um problema?\n",
    "\n",
    "1. **Análise do problema:** tem como foco a problematização, definindo bem o problema abordado;\n",
    "2. **Especificação dos requisitos do problema:** realiza uma verificação de quais dados/informações devem ser fornecidos para a entrada e quais resultados devem ser apresentados na saída;\n",
    "3. **Construção do algoritmo:** etapa em que o algoritmo é construído, considerando a análise realizada na etapa anterior. Nessa etapa, é construído o algoritmo que caracteriza os passos que devem ser tomados para se chegar a um resultado final;\n",
    "4. **Validação do algoritmo:** verifica se o algoritmo atende à necessidade do programa. Para isso, podem ser realizados testes de mesa, atribuindo diversos valores possíveis para ver se o algoritmo consegue realizar o processamento;\n",
    "5. **Construção do programa:** a implementação em uma linguagem de programação (como a linguagem C) é aplicada considerando a estrutura do algoritmo;\n",
    "6. **Verificação do programa:** é realizada a compilação e depuração do programa. Permite realizar testes (como o teste de mesa), inserindo valores no programa para verificar se o processamento está correto;\n",
    "7. **Manutenção:** etapa importante que tem como objetivo acompanhar o programa depois de finalizado. Esse acompanhamento diz respeito ao cuidado com eventuais erros que podem surgir, assim como a atualizações e novas funcionalidades que podem ou devem ser inseridas.\n",
    "\n",
    "---"
   ]
  },
  {
   "cell_type": "markdown",
   "metadata": {},
   "source": [
    "### Tautologia\n",
    "Uma proposição composta é uma tautologia quando o seu valor lógico é sempre verdade (V) na sua última coluna da tabela-verdade, quaisquer que sejam os valores lógicos das proposições simples.   \n",
    "   \n",
    "### Contradição   \n",
    "Uma proposição composta é uma contradição quando o seu valor lógico é sempre a falsidade (F) na sua última coluna da tabela-verdade, quaisquer que sejam os valores lógicos das proposições componentes.\n",
    "   \n",
    "### Contingência   \n",
    "Uma proposição é contingente (ou uma indeterminação) quando não é uma tautologia e não é uma contradição, ou seja, em sua última coluna da sua tabela-verdade aparecem os valores lógicos V e F cada um pelo menos uma vez.\n",
    "\n",
    "---"
   ]
  },
  {
   "cell_type": "markdown",
   "metadata": {},
   "source": [
    "### Fórmulas   \n",
    "- Uma fórmula é válida se ela é uma tautologia;\n",
    "- Uma fórmula é satisfatível se ela é contingente;\n",
    "- Uma fórmula é insatisfatível se ela é uma contradição."
   ]
  }
 ],
 "metadata": {
  "kernelspec": {
   "display_name": "Python 3",
   "language": "python",
   "name": "python3"
  },
  "language_info": {
   "codemirror_mode": {
    "name": "ipython",
    "version": 3
   },
   "file_extension": ".py",
   "mimetype": "text/x-python",
   "name": "python",
   "nbconvert_exporter": "python",
   "pygments_lexer": "ipython3",
   "version": "3.13.2"
  }
 },
 "nbformat": 4,
 "nbformat_minor": 2
}
