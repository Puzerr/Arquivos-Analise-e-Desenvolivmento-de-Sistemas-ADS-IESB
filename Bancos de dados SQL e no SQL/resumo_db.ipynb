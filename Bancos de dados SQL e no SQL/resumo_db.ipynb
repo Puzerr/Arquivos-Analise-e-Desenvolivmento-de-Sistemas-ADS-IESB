{
 "cells": [
  {
   "cell_type": "markdown",
   "metadata": {},
   "source": [
    "# **Nenhum projeto de *software* se faz sozinho!**\n",
    "\n",
    "## Aula 2 Banco de Dados e No SQL\n",
    "\n",
    "- Modelo conceitual = provar uma teoria ou conceito;\n",
    "- Modelo lógico de dados = pronto para leitura em banco de dados;\n",
    "- Modelo fisico de dados = emplementaçao do modelo lógico (código).\n",
    "\n",
    "---\n",
    "\n",
    "### Atores: são papeis, quem terá acesso ao *database* e quais dados ele terá em mãos.\n",
    "**DBA (*DataBase Administrator*)**\n",
    "- Autoriza acesso ao banco de dados;\n",
    "- Coordenar e melhorar seu uso;\n",
    "- Adquirir recursos de *software* e *hardware* conforme a necessidade;\n",
    "- Responsável por **falhas na segurança**;\n",
    "- Responsável pelo **desempenho das Query's**;\n",
    "- Responsável pelo **backup dos dados**;\n",
    "- **Treinamento e capactitação de equipe e clientes.**\n",
    "\n",
    "**Projetista de banco de dados**\n",
    "- Identificar os dados a serem armazenados;\n",
    "- Escolher estruturas apropriadas para representar e aramzenas dados identificados;\n",
    "- **Levantar requisitos funcionais** com todos os possíveis usuários do banco de dados em potencial;\n",
    "- Comunicar-se com equipe de negócio;\n",
    "- **Tem uma visão mais negociável, de análise.**\n",
    "\n",
    "**Usuários finais**\n",
    "- São **atores** cujas funções exigem acesso ao banco de dados para **consulta** e a **geração** ou não de **relatórios**. \n",
    "\n",
    "_Abstração: dar mais funcionalidades á alguma coisa, descrever as possibilidades, características, abstração._  \n",
    "_Uma tabela é uma descrição de uma funcionalidade._   \n",
    "_Atributo é o mesmo que característica._   \n",
    "\n",
    "---\n",
    "\n",
    "\n",
    "- Alto nível > Linguagem humana\n",
    "- Baixo nível > Linguagem de máquina\n",
    "\n",
    "---\n",
    "\n",
    "## Modelo de dados Conceitual ou de Alto nível\n",
    "**Entidade**\n",
    "- Algo que **existe física** ou **virtualmente**, idenfificável unicamente por intermédio de suas características (**seus atributos**). Exemplos: um **cliente**, **um carro**, **um produto**, um **evento** ou um **estudante (Aluno)**;\n",
    "- Pensar em entidades como substantivos;\n",
    "- **Algo que pode ser definido e que pode ter dados armazenados sobre ele;**\n",
    "- Representa um objeto, e esses objetos possuem seus atributos.\n"
   ]
  }
 ],
 "metadata": {
  "language_info": {
   "name": "python"
  }
 },
 "nbformat": 4,
 "nbformat_minor": 2
}
