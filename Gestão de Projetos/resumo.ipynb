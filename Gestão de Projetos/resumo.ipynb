{
 "cells": [
  {
   "cell_type": "markdown",
   "metadata": {},
   "source": [
    "# Gestão de Projetos   \n",
    "---"
   ]
  },
  {
   "cell_type": "markdown",
   "metadata": {},
   "source": [
    "### O que é um projeto?\n",
    "Segundo Kerzner (2021), um projeto pode ser entendido como um esforço temporário empreendido para criar um produto, serviço ou resultado único. A definição ressalta a natureza temporária e a singularidade como características distintas dos projetos, diferenciando-os das operações regulares que são contínuas e repetitiva.   \n",
    "\n",
    "As operações regulares são atividades contínuas que mantêm a organização funcionando no dia a dia. Elas são repetitivas e mantêm a estrutura de negócios em operação, garantindo a entrega contínua de produtos ou serviços. Por outro lado, um projeto é temporário e tem um início e um fim definidos, destinado a alcançar objetivos específicos que resultam em uma mudança ou adição de valor único à organização.\n",
    "\n",
    "---"
   ]
  },
  {
   "cell_type": "markdown",
   "metadata": {},
   "source": [
    "### Fases de um projeto\n",
    "A **fase de iniciação** é o ponto de partida, em que o projeto é formalmente autorizado e definido. Nessa etapa, o gerente do projeto é nomeado, e o escopo inicial, os objetivos e as partes interessadas do projeto são identificados. A iniciação estabelece as bases para o planejamento detalhado que virá a seguir.   \n",
    "\n",
    "Em seguida, o **estágio de planejamento** envolve a definição detalhada e o refinamento dos objetivos, a criação de planos de gestão abrangentes que cobrem escopo, cronograma, custos qualidade, recursos, comunicações e riscos.   \n",
    "\n",
    "O **terceiro estágio é a execução**, que é quando o plano de projeto é posto em ação. Durante a execução, os recursos são alocados e as tarefas são realizadas conforme planejado para produzir as entregas do projeto. Paralelamente à execução, ocorre o estágio de monitoramento e controle, que é vital para garantir que o projeto permaneça no caminho certo em relação ao plano original. Durante essa fase, o projeto é formalmente encerrado, os contratos são finalizados, os recursos são liberados e as entregas são passadas para operações ou para o próximo projeto.   \n",
    "\n",
    "---"
   ]
  },
  {
   "cell_type": "markdown",
   "metadata": {},
   "source": [
    "### Papéis e responsabilidades no gerenciamento de projetos\n",
    "\n",
    "O **gerente de projetos** é o líder do projeto, responsável por coordenar todas as atividades desde a iniciação até o encerramento. Sua função principal é conferir se o projeto seja entreguedentro do escopo, tempo, custo e qualidade acordados.\n",
    "   \n",
    "Desse modo, a **equipe de projeto** inclui todos os indivíduos que trabalham nas tarefas do projeto sob a orientação do gerente de projetos. A equipe pode ser composta por uma variedade de profissionais com habilidades técnicas específicas, necessárias para a execução do projeto.\n",
    "   \n",
    "Os **stakeholders** são todas as partes interessadas que têm algum interesse ou são afetadas pelo projeto. Ou seja: clientes, fornecedores, patrocinadores, a comunidade e até membros não diretamente envolvidos na execução. O gerente de projetos deve garantir que os stakeholders estejam devidamente engajados e que suas expectativas e necessidades sejam compreendidas e gerenciadas ao longo do projeto.\n",
    "   \n",
    "---"
   ]
  },
  {
   "cell_type": "markdown",
   "metadata": {},
   "source": [
    "Marcação página 24/60"
   ]
  }
 ],
 "metadata": {
  "language_info": {
   "name": "python"
  }
 },
 "nbformat": 4,
 "nbformat_minor": 2
}
