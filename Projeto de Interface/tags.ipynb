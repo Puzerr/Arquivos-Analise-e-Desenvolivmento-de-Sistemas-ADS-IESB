{
 "cells": [
  {
   "cell_type": "markdown",
   "metadata": {},
   "source": [
    "# Tags e comandos HTML, CSS, BOOTSTRAP E JAVASCRIPT  "
   ]
  },
  {
   "cell_type": "markdown",
   "metadata": {},
   "source": [
    " --- \n",
    "## HTML\n",
    "Significa *Hyper Text Markdown Language*, e não é uma linguagem de programação."
   ]
  }
 ],
 "metadata": {
  "language_info": {
   "name": "python"
  }
 },
 "nbformat": 4,
 "nbformat_minor": 2
}
